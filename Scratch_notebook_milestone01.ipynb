{
 "cells": [
  {
   "cell_type": "code",
   "execution_count": 153,
   "metadata": {},
   "outputs": [
    {
     "name": "stdout",
     "output_type": "stream",
     "text": [
      "[{'pid': 1, 'mark': ' ', 'turn': False}, {'pid': 2, 'mark': ' ', 'turn': False}]\n",
      " \n"
     ]
    }
   ],
   "source": [
    "from IPython.display import clear_output\n",
    "\n",
    "board= {7:' ',8:' ',9:' ',4:' ',5:' ',6:' ',1:' ',2:' ',3:' '}\n",
    "players =  []\n",
    "\n",
    "#inits\n",
    "players.append({'pid':1,'mark':' ','turn':False})\n",
    "players.append({'pid':2,'mark':' ','turn':False})\n",
    "print(players)\n",
    "#print(players[1]['mark'].lower())\n",
    "\n",
    "def display_board(board):\n",
    "#    drows = {7:' ',8:' ',9:' ',4:' ',5:' ',6:' ',1:' ',2:' ',3:' '}\n",
    "\n",
    "    \n",
    "    print(f' {board[7].upper()} | {board[8].upper()} | {board[9].upper()} \\n' +3*'-'+'+'+3*'-'+'+'+3*'-'+'\\n'+\n",
    "          f' {board[4].upper()} | {board[5].upper()} | {board[6].upper()} \\n' +3*'-'+'+'+3*'-'+'+'+3*'-'+'\\n'+\n",
    "          f' {board[1].upper()} | {board[2].upper()} | {board[3].upper()} \\n')"
   ]
  },
  {
   "cell_type": "code",
   "execution_count": 137,
   "metadata": {},
   "outputs": [
    {
     "name": "stdout",
     "output_type": "stream",
     "text": [
      "   |   |   \n",
      "---+---+---\n",
      "   |   |   \n",
      "---+---+---\n",
      "   |   |   \n",
      "\n"
     ]
    }
   ],
   "source": [
    "display_board(board)"
   ]
  },
  {
   "cell_type": "code",
   "execution_count": 156,
   "metadata": {},
   "outputs": [],
   "source": [
    "def player_input(players):\n",
    "\n",
    "    \n",
    "    #players[0]['mark']\n",
    "    #[{'pid': 1, 'mark': ' ', 'turn': False}, {'pid': 2, 'mark': ' ', 'turn': False}]\n",
    "    \n",
    "    while True:\n",
    "        if players[0]['mark'].upper() == ' ':\n",
    "            #player1 = input('Player 1, please select either X or O :')\n",
    "            players[0]['mark']=input('Player 1, please select either X or O :')\n",
    "#        if player1.upper() == 'X':\n",
    "        if players[0]['mark'].upper() == 'X':\n",
    "            players[1]['mark'] = 'O'\n",
    "        elif players[0]['mark'].upper() == 'O':\n",
    "            players[1]['mark'] = 'X'\n",
    "        else:\n",
    "            print('Player 1, you selected an invalid choice ({a}). Please, only select X or O.'.format(a=players[0]['mark'].upper()))\n",
    "            players[0]['mark'] = ' '\n",
    "            continue\n",
    "  \n",
    "        print('Player 1 you are {a}.\\nPlayer 2 you are {b}.'.format(a=players[0]['mark'].upper(),b=players[1]['mark'].upper()))\n",
    "        break"
   ]
  },
  {
   "cell_type": "code",
   "execution_count": 157,
   "metadata": {},
   "outputs": [
    {
     "name": "stdout",
     "output_type": "stream",
     "text": [
      "Player 1, please select either X or O :o\n",
      "Player 1 you are O.\n",
      "Player 2 you are X.\n"
     ]
    }
   ],
   "source": [
    "player_input(players)"
   ]
  },
  {
   "cell_type": "code",
   "execution_count": 46,
   "metadata": {},
   "outputs": [],
   "source": [
    "def place_marker(board, marker, position):\n",
    "    board[position] = marker\n",
    "    "
   ]
  },
  {
   "cell_type": "code",
   "execution_count": 135,
   "metadata": {},
   "outputs": [
    {
     "name": "stdout",
     "output_type": "stream",
     "text": [
      " X |   | O \n",
      "---+---+---\n",
      "   | O | X \n",
      "---+---+---\n",
      " O | O | X \n",
      "\n"
     ]
    },
    {
     "data": {
      "text/plain": [
       "['o', 'o', 'O']"
      ]
     },
     "execution_count": 135,
     "metadata": {},
     "output_type": "execute_result"
    }
   ],
   "source": [
    "place_marker(board, 'O', 1)\n",
    "place_marker(board, ' ', 4)\n",
    "place_marker(board, 'o', 5)\n",
    "place_marker(board, ' ', 8)\n",
    "place_marker(board, 'o', 2)\n",
    "place_marker(board, 'x', 6)\n",
    "place_marker(board, 'o', 9)\n",
    "place_marker(board, 'x', 3)\n",
    "display_board(board)\n",
    "[board[i] for i in range(4,7)]\n",
    "[board[m] for m in [9, 5, 1] if board[m].upper()=='O']"
   ]
  },
  {
   "cell_type": "code",
   "execution_count": 133,
   "metadata": {},
   "outputs": [],
   "source": [
    "def win_check(board, mark):\n",
    "    retval = False\n",
    "    cnt = 0\n",
    "\n",
    "    #top row check 7, 8, 9\n",
    "    if len([board[m] for m in range(7,10) if board[m].upper() == mark]) == 3:\n",
    "        return True\n",
    "    #mid row check 4, 5, 6\n",
    "    if len([board[m] for m in range(4,7) if board[m].upper() == mark]) == 3:\n",
    "        return True\n",
    "    #bot row check 1, 2, 3\n",
    "    if len([board[m] for m in range(1,4) if board[m].upper() == mark]) == 3:\n",
    "        return True\n",
    "    \n",
    "    #left columns check 7, 4, 1\n",
    "    if len([board[m] for m in [7, 4, 1] if board[m].upper()==mark]) == 3:\n",
    "        return True\n",
    "    #middle columns check 8, 5, 2\n",
    "    if len([board[m] for m in [8, 5, 2] if board[m].upper()==mark]) == 3:\n",
    "        return True\n",
    "    #right columns check 9, 6, 3\n",
    "    if len([board[m] for m in [9, 6, 3] if board[m].upper()==mark]) == 3:\n",
    "        return True\n",
    "    \n",
    "    #Upper left diagonal check 7, 5, 3\n",
    "    if len([board[m] for m in [7, 5, 3] if board[m].upper()==mark]) == 3:\n",
    "        return True    \n",
    "    #Upper right diagonal check 9, 5, 1\n",
    "    if len([board[m] for m in [9, 5, 1] if board[m].upper()==mark]) == 3:\n",
    "        return True    \n",
    "    \n",
    "    \n",
    "    return False\n",
    "#    if len(row)\n",
    "#    print(len(row))\n",
    "    "
   ]
  },
  {
   "cell_type": "code",
   "execution_count": 134,
   "metadata": {},
   "outputs": [
    {
     "data": {
      "text/plain": [
       "True"
      ]
     },
     "execution_count": 134,
     "metadata": {},
     "output_type": "execute_result"
    }
   ],
   "source": [
    "win_check(board, 'O')"
   ]
  },
  {
   "cell_type": "code",
   "execution_count": 87,
   "metadata": {},
   "outputs": [
    {
     "ename": "SyntaxError",
     "evalue": "unexpected EOF while parsing (<ipython-input-87-46fb88622f33>, line 1)",
     "output_type": "error",
     "traceback": [
      "\u001b[1;36m  File \u001b[1;32m\"<ipython-input-87-46fb88622f33>\"\u001b[1;36m, line \u001b[1;32m1\u001b[0m\n\u001b[1;33m    [[board[m] for m in [7,4,1] if board[m].upper()=='X']\u001b[0m\n\u001b[1;37m                                                         ^\u001b[0m\n\u001b[1;31mSyntaxError\u001b[0m\u001b[1;31m:\u001b[0m unexpected EOF while parsing\n"
     ]
    }
   ],
   "source": [
    "[[board[m] for m in [7,4,1] if board[m].upper()=='X']"
   ]
  },
  {
   "cell_type": "code",
   "execution_count": 95,
   "metadata": {},
   "outputs": [],
   "source": [
    "#for m in [7,4,1]:\n",
    "#    print(list(board[m]))\n",
    "\n",
    "temp = [board[m] for m in [7,4,1] if board[m].upper()=='X']"
   ]
  },
  {
   "cell_type": "code",
   "execution_count": 97,
   "metadata": {},
   "outputs": [
    {
     "data": {
      "text/plain": [
       "3"
      ]
     },
     "execution_count": 97,
     "metadata": {},
     "output_type": "execute_result"
    }
   ],
   "source": [
    "len(temp)"
   ]
  },
  {
   "cell_type": "code",
   "execution_count": null,
   "metadata": {},
   "outputs": [],
   "source": []
  }
 ],
 "metadata": {
  "kernelspec": {
   "display_name": "Python 3",
   "language": "python",
   "name": "python3"
  },
  "language_info": {
   "codemirror_mode": {
    "name": "ipython",
    "version": 3
   },
   "file_extension": ".py",
   "mimetype": "text/x-python",
   "name": "python",
   "nbconvert_exporter": "python",
   "pygments_lexer": "ipython3",
   "version": "3.7.1"
  }
 },
 "nbformat": 4,
 "nbformat_minor": 2
}
